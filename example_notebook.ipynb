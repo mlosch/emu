{
 "cells": [
  {
   "cell_type": "markdown",
   "metadata": {},
   "source": [
    "# Gather summary statistics from network outputs\n",
    "This example script displays the use of the nnadapter to\n",
    "estimate normal distribution parameters from the output of each convolutional layer in a given pretrained model.\n",
    "\n",
    "### 1. Setup\n",
    "- Setup environment"
   ]
  },
  {
   "cell_type": "code",
   "execution_count": 1,
   "metadata": {
    "collapsed": false
   },
   "outputs": [],
   "source": [
    "import sys\n",
    "import os\n",
    "import numpy as np\n",
    "import image\n",
    "from collections import OrderedDict\n",
    "\n",
    "import matplotlib.pyplot as plt\n",
    "%matplotlib inline"
   ]
  },
  {
   "cell_type": "markdown",
   "metadata": {},
   "source": [
    "- Define backend"
   ]
  },
  {
   "cell_type": "code",
   "execution_count": 2,
   "metadata": {
    "collapsed": false
   },
   "outputs": [],
   "source": [
    "backend = 'caffe'  # currently supported: caffe, torch"
   ]
  },
  {
   "cell_type": "markdown",
   "metadata": {},
   "source": [
    "- Load a caffe model"
   ]
  },
  {
   "cell_type": "code",
   "execution_count": 3,
   "metadata": {
    "collapsed": true
   },
   "outputs": [],
   "source": [
    "if backend == 'caffe':\n",
    "    # make sure pycaffe is in your system path\n",
    "    caffe_root = os.getenv(\"HOME\") + '/caffe/'\n",
    "    sys.path.insert(0, caffe_root + 'python')\n",
    "    \n",
    "    # Load CaffeAdapter class\n",
    "    from caffeadapter import CaffeAdapter\n",
    "    \n",
    "    # Define the path to .caffemodel, deploy.prototxt and mean.npy\n",
    "    #  Here we use the pretrained CaffeNet from the Caffe model zoo\n",
    "    model_fp = caffe_root + 'models/bvlc_reference_caffenet/'\n",
    "    weights_fp = model_fp + 'bvlc_reference_caffenet.caffemodel'\n",
    "    prototxt_fp = model_fp + 'deploy.prototxt'\n",
    "    \n",
    "    mean_fp = caffe_root + 'data/ilsvrc12/ilsvrc_2012_mean.npy'\n",
    "    # Alternatively, we could also define the mean as a numpy array:\n",
    "    #  mean = np.array([104.00698793, 116.66876762, 122.67891434])\n",
    "    \n",
    "    adapter = CaffeAdapter(prototxt_fp, weights_fp, mean_fp)"
   ]
  },
  {
   "cell_type": "markdown",
   "metadata": {},
   "source": [
    "- Load a torch model"
   ]
  },
  {
   "cell_type": "code",
   "execution_count": 4,
   "metadata": {
    "collapsed": false
   },
   "outputs": [],
   "source": [
    "if backend == 'torch':\n",
    "    # Load TorchAdapter class\n",
    "    from torchadapter import TorchAdapter\n",
    "    \n",
    "    # Define the path to the model .t7 file\n",
    "    model_fp = 'models/resnet-18.t7'\n",
    "    \n",
    "    # Define mean and std\n",
    "    mean = np.array([0.485, 0.456, 0.406])\n",
    "    std = np.array([0.229, 0.224, 0.225])\n",
    "    # Alternatively, we could also pass a .t7 file path to the constructor\n",
    "    \n",
    "    # Define the image input size to the model with order:\n",
    "    #  Channels x Height x Width\n",
    "    input_size = (3, 224, 224)\n",
    "    \n",
    "    # Define a list of required torch modules necessary to load the model\n",
    "    modules = ['cunn', 'cudnn']\n",
    "    # Homebrewn torch modules, that cannot be internally called via require(), \n",
    "    #  can still be loaded by passing a path to the lua script, e.g.:\n",
    "    #   modules = ['mymodules/moduleX.lua']\n",
    "    \n",
    "    adapter = TorchAdapter(model_fp, modules, mean, std, input_size)"
   ]
  },
  {
   "cell_type": "markdown",
   "metadata": {},
   "source": [
    "- Load available layers and their types"
   ]
  },
  {
   "cell_type": "code",
   "execution_count": 5,
   "metadata": {
    "collapsed": false
   },
   "outputs": [
    {
     "name": "stdout",
     "output_type": "stream",
     "text": [
      "data:\tInput\n",
      "conv1:\tConvolution\n",
      "relu1:\tReLU\n",
      "pool1:\tPooling\n",
      "norm1:\tLRN\n",
      "conv2:\tConvolution\n",
      "relu2:\tReLU\n",
      "pool2:\tPooling\n",
      "norm2:\tLRN\n",
      "conv3:\tConvolution\n",
      "relu3:\tReLU\n",
      "conv4:\tConvolution\n",
      "relu4:\tReLU\n",
      "conv5:\tConvolution\n",
      "relu5:\tReLU\n",
      "pool5:\tPooling\n",
      "fc6:\tInnerProduct\n",
      "relu6:\tReLU\n",
      "drop6:\tDropout\n",
      "fc7:\tInnerProduct\n",
      "relu7:\tReLU\n",
      "drop7:\tDropout\n",
      "fc8:\tInnerProduct\n",
      "prob:\tSoftmax\n"
     ]
    }
   ],
   "source": [
    "layer_types = adapter.get_layers()\n",
    "for lname, ltype in layer_types.items():\n",
    "    print('%s:\\t%s' % (lname, ltype))"
   ]
  },
  {
   "cell_type": "markdown",
   "metadata": {},
   "source": [
    "- Select convolutional layers"
   ]
  },
  {
   "cell_type": "code",
   "execution_count": 6,
   "metadata": {
    "collapsed": true
   },
   "outputs": [],
   "source": [
    "conv_layers = []\n",
    "\n",
    "if backend == 'caffe':\n",
    "    conv_type = 'Convolution'\n",
    "if backend == 'torch':\n",
    "    conv_type = 'cudnn.SpatialConvolution'\n",
    "    \n",
    "conv_layers = [lname for lname, ltype in layer_types.items() if ltype == conv_type]"
   ]
  },
  {
   "cell_type": "markdown",
   "metadata": {},
   "source": [
    "### 2. Forward images through network\n",
    "- Define path to a directory containing images and run them through the network"
   ]
  },
  {
   "cell_type": "code",
   "execution_count": 7,
   "metadata": {
    "collapsed": false
   },
   "outputs": [],
   "source": [
    "images_dp = 'images/'\n",
    "\n",
    "files = os.listdir(images_dp)\n",
    "# Filter for jpeg extension\n",
    "image_files = [os.path.join(images_dp, f) for f in files if f.endswith('.jpg')]\n",
    "\n",
    "# Run in batched fashion\n",
    "batch_size = 32\n",
    "\n",
    "# As we run in batch mode, we have to store the intermediate layer outputs\n",
    "layer_outputs = OrderedDict()\n",
    "for layer in conv_layers:\n",
    "    layer_outputs[layer] = []\n",
    "\n",
    "for i in range(0, len(image_files), batch_size):\n",
    "    batch = image_files[i:(i+batch_size)]\n",
    "    \n",
    "    # Forward batch through network\n",
    "    #  The adapter takes care of loading images and transforming them to the right format.\n",
    "    #  Alternatively, we could load and transform the images manually and pass a list of numpy arrays.\n",
    "    adapter.forward(batch)\n",
    "    \n",
    "    # Save a copy of the outputs of the convolutional layers.\n",
    "    for layer in conv_layers:\n",
    "        output = adapter.get_layeroutput(layer).copy()\n",
    "        layer_outputs[layer].append(output)"
   ]
  },
  {
   "cell_type": "code",
   "execution_count": 8,
   "metadata": {
    "collapsed": false
   },
   "outputs": [],
   "source": [
    "# Concatenate batch arrays to single outputs\n",
    "for name, layer_output in layer_outputs.items():\n",
    "    layer_outputs[name] = np.concatenate(layer_output, axis=0)"
   ]
  },
  {
   "cell_type": "markdown",
   "metadata": {},
   "source": [
    "### 3. Calculate summary statistics\n",
    "- Estimate mean and standard deviation per layer"
   ]
  },
  {
   "cell_type": "code",
   "execution_count": 9,
   "metadata": {
    "collapsed": false
   },
   "outputs": [],
   "source": [
    "means = [output.mean() for output in layer_outputs.values()]\n",
    "stds  = [output.std() for output in layer_outputs.values()]"
   ]
  },
  {
   "cell_type": "code",
   "execution_count": 10,
   "metadata": {
    "collapsed": false
   },
   "outputs": [
    {
     "data": {
      "image/png": "[encoded data removed]",
      "text/plain": [
       "<matplotlib.figure.Figure at 0x7f2d3b65f810>"
      ]
     },
     "metadata": {},
     "output_type": "display_data"
    }
   ],
   "source": [
    "plt.plot(means)\n",
    "plt.xticks(range(len(conv_layers)), conv_layers, rotation=45.0)\n",
    "plt.title('Convolution output mean over network depth');\n",
    "plt.xlabel('Layer');"
   ]
  },
  {
   "cell_type": "code",
   "execution_count": 11,
   "metadata": {
    "collapsed": false
   },
   "outputs": [
    {
     "data": {
      "image/png": "[encoded data removed]",
      "text/plain": [
       "<matplotlib.figure.Figure at 0x7f2d03a0d1d0>"
      ]
     },
     "metadata": {},
     "output_type": "display_data"
    }
   ],
   "source": [
    "plt.plot(stds)\n",
    "plt.xticks(range(len(conv_layers)), conv_layers, rotation=45.0)\n",
    "plt.title('Convolution output std over network depth');\n",
    "plt.xlabel('Layer');"
   ]
  },
  {
   "cell_type": "code",
   "execution_count": null,
   "metadata": {
    "collapsed": true
   },
   "outputs": [],
   "source": []
  }
 ],
 "metadata": {
  "kernelspec": {
   "display_name": "Python 2",
   "language": "python",
   "name": "python2"
  },
  "language_info": {
   "codemirror_mode": {
    "name": "ipython",
    "version": 2
   },
   "file_extension": ".py",
   "mimetype": "text/x-python",
   "name": "python",
   "nbconvert_exporter": "python",
   "pygments_lexer": "ipython2",
   "version": "2.7.6"
  }
 },
 "nbformat": 4,
 "nbformat_minor": 0
}
